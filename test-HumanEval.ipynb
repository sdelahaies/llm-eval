{
 "cells": [
  {
   "cell_type": "code",
   "execution_count": 2,
   "metadata": {},
   "outputs": [
    {
     "name": "stdout",
     "output_type": "stream",
     "text": [
      "Cloning into 'human-eval'...\n",
      "remote: Enumerating objects: 39, done.\u001b[K\n",
      "remote: Counting objects: 100% (32/32), done.\u001b[K\n",
      "remote: Compressing objects: 100% (22/22), done.\u001b[K\n",
      "remote: Total 39 (delta 16), reused 11 (delta 10), pack-reused 7 (from 1)\u001b[K\n",
      "Receiving objects: 100% (39/39), 56.27 KiB | 56.27 MiB/s, done.\n",
      "Resolving deltas: 100% (16/16), done.\n"
     ]
    }
   ],
   "source": [
    "!git clone https://github.com/sdelahaies/human-eval.git"
   ]
  },
  {
   "cell_type": "code",
   "execution_count": 3,
   "metadata": {},
   "outputs": [
    {
     "name": "stdout",
     "output_type": "stream",
     "text": [
      "Reading samples...\n",
      "6it [00:00, 5354.43it/s]\n",
      "Running test suites...\n",
      "100%|█████████████████████████████████████████████| 6/6 [00:03<00:00,  1.97it/s]\n",
      "Writing results to human-eval/data/example_samples.jsonl_results.jsonl...\n",
      "100%|██████████████████████████████████████████| 6/6 [00:00<00:00, 19403.10it/s]\n",
      "{'pass@1': 0.4999999999999999}\n"
     ]
    }
   ],
   "source": [
    "!evaluate_functional_correctness human-eval/data/example_samples.jsonl --problem_file=human-eval/data/example_problem.jsonl"
   ]
  }
 ],
 "metadata": {
  "kernelspec": {
   "display_name": ".venv",
   "language": "python",
   "name": "python3"
  },
  "language_info": {
   "codemirror_mode": {
    "name": "ipython",
    "version": 3
   },
   "file_extension": ".py",
   "mimetype": "text/x-python",
   "name": "python",
   "nbconvert_exporter": "python",
   "pygments_lexer": "ipython3",
   "version": "3.10.12"
  }
 },
 "nbformat": 4,
 "nbformat_minor": 2
}
