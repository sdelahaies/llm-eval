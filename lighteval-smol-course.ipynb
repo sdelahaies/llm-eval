{
 "cells": [
  {
   "cell_type": "markdown",
   "metadata": {},
   "source": [
    "# HumanEval\n",
    "\n",
    "code reproduced from https://github.com/huggingface/smol-course/blob/main/4_evaluation/notebooks/lighteval_evaluate_and_analyse_your_LLM.ipynb , refer to it for extended context and explanation.\n",
    "\n",
    "⚠️ models are stored in the local folder tmp you might want to git rid of it afterward\n",
    "\n",
    "This notebook walks through an evaluation of two language models, Qwen2-1.5B and SmolLM2-1.7B-Instruct, on a subset of tasks from the MMLU (Massive Multitask Language Understanding) benchmark. The evaluation uses LightEval, a lightweight library for assessing large language models (LLMs). By the end of the notebook, we compare the models' accuracies visually using a bar chart."
   ]
  },
  {
   "cell_type": "code",
   "execution_count": null,
   "metadata": {},
   "outputs": [],
   "source": [
    "import lighteval\n",
    "import os\n",
    "from datetime import timedelta\n",
    "from transformers import AutoModelForCausalLM\n",
    "\n",
    "from lighteval.logging.evaluation_tracker import EvaluationTracker\n",
    "from lighteval.pipeline import EnvConfig, ParallelismManager, Pipeline, PipelineParameters\n",
    "\n",
    "from dotenv import load_dotenv\n",
    "\n",
    "load_dotenv()\n",
    "\n",
    "TOKEN = os.getenv(\"HF_TOKEN\")\n",
    "#TOKEN"
   ]
  },
  {
   "cell_type": "code",
   "execution_count": 2,
   "metadata": {},
   "outputs": [],
   "source": [
    "\n",
    "env_config = EnvConfig(token=TOKEN, cache_dir=\"./tmp\")\n",
    "\n",
    "evaluation_tracker = EvaluationTracker(\n",
    "    output_dir=\"./tmp\",\n",
    "    save_details=False,\n",
    "    push_to_hub=False,\n",
    "    push_to_tensorboard=False,\n",
    "    public=False,\n",
    "    hub_results_org=False,\n",
    ")\n",
    "\n",
    "pipeline_params = PipelineParameters(\n",
    "    launcher_type=ParallelismManager.ACCELERATE,\n",
    "    env_config=env_config,\n",
    "    job_id=1,\n",
    "    override_batch_size=1,\n",
    "    num_fewshot_seeds=0,\n",
    "    max_samples=10,\n",
    "    use_chat_template=False,\n",
    ")"
   ]
  },
  {
   "cell_type": "code",
   "execution_count": null,
   "metadata": {},
   "outputs": [],
   "source": [
    "def domain_tasks(n:int)-> str:\n",
    "    return f\"leaderboard|mmlu:anatomy|{n}|0,leaderboard|mmlu:professional_medicine|{n}|0,leaderboard|mmlu:high_school_biology|{n}|0,leaderboard|mmlu:high_school_chemistry|{n}|0\".format(n)\n",
    "\n",
    "domain_tasks(5)"
   ]
  },
  {
   "cell_type": "code",
   "execution_count": null,
   "metadata": {},
   "outputs": [],
   "source": [
    "qwen_model = AutoModelForCausalLM.from_pretrained(\"Qwen/Qwen2-1.5B\")\n",
    "\n",
    "n=10\n",
    "\n",
    "pipeline = Pipeline(\n",
    "    tasks=domain_tasks(n),\n",
    "    pipeline_parameters=pipeline_params,\n",
    "    evaluation_tracker=evaluation_tracker,\n",
    "    model=qwen_model\n",
    ")\n",
    "\n",
    "pipeline.evaluate()\n",
    "\n",
    "qwen_results = pipeline.get_results()\n",
    "\n",
    "pipeline.show_results()"
   ]
  },
  {
   "cell_type": "code",
   "execution_count": null,
   "metadata": {},
   "outputs": [],
   "source": [
    "smol_model = AutoModelForCausalLM.from_pretrained(\"HuggingFaceTB/SmolLM2-1.7B-Instruct\")\n",
    "\n",
    "pipeline = Pipeline(\n",
    "    tasks=domain_tasks(n),\n",
    "    pipeline_parameters=pipeline_params,\n",
    "    evaluation_tracker=evaluation_tracker,\n",
    "    model=smol_model\n",
    ")\n",
    "\n",
    "pipeline.evaluate()\n",
    "     \n",
    "\n",
    "smol_results = pipeline.get_results()\n",
    "     \n",
    "\n",
    "pipeline.show_results()"
   ]
  },
  {
   "cell_type": "code",
   "execution_count": null,
   "metadata": {},
   "outputs": [],
   "source": [
    "import pandas as pd\n",
    "\n",
    "df = pd.DataFrame.from_records(smol_results[\"results\"]).T[\"acc\"].rename(\"SmolLM2-1.7B-Instruct\")\n",
    "_df = pd.DataFrame.from_records(qwen_results[\"results\"]).T[\"acc\"].rename(\"Qwen2-1.5B\")\n",
    "df = pd.concat([df, _df], axis=1)\n",
    "df.plot(kind=\"barh\")"
   ]
  }
 ],
 "metadata": {
  "kernelspec": {
   "display_name": ".venv",
   "language": "python",
   "name": "python3"
  },
  "language_info": {
   "codemirror_mode": {
    "name": "ipython",
    "version": 3
   },
   "file_extension": ".py",
   "mimetype": "text/x-python",
   "name": "python",
   "nbconvert_exporter": "python",
   "pygments_lexer": "ipython3",
   "version": "3.10.12"
  }
 },
 "nbformat": 4,
 "nbformat_minor": 2
}
