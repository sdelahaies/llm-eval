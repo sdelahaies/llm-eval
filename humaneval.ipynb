{
 "cells": [
  {
   "cell_type": "markdown",
   "metadata": {},
   "source": [
    "# HumanEval\n",
    "\n",
    "code reproduced from https://www.datacamp.com/tutorial/humaneval-benchmark-for-evaluating-llm-code-generation-capabilities , look there for extended comments and explanations\n",
    "\n",
    "Evaluates codeparrot-small (110M) on HumanEval."
   ]
  },
  {
   "cell_type": "code",
   "execution_count": 1,
   "metadata": {},
   "outputs": [],
   "source": [
    "import os\n",
    "os.environ[\"HF_ALLOW_CODE_EVAL\"] = \"1\"\n",
    "os.environ[\"TOKENIZERS_PARALLELISM\"] = \"false\""
   ]
  },
  {
   "cell_type": "code",
   "execution_count": 2,
   "metadata": {},
   "outputs": [],
   "source": [
    "from datasets import load_dataset\n",
    "from evaluate import load\n",
    "from transformers import AutoModelForCausalLM, AutoTokenizer\n",
    "import torch\n",
    "from tqdm import tqdm\n",
    "\n",
    "# Load HumanEval dataset\n",
    "human_eval = load_dataset(\"openai_humaneval\")['test']\n",
    "\n",
    "# Load code evaluation metric\n",
    "code_eval_metric = load(\"code_eval\")"
   ]
  },
  {
   "cell_type": "code",
   "execution_count": 3,
   "metadata": {},
   "outputs": [
    {
     "data": {
      "text/plain": [
       "GPT2LMHeadModel(\n",
       "  (transformer): GPT2Model(\n",
       "    (wte): Embedding(32768, 768)\n",
       "    (wpe): Embedding(1024, 768)\n",
       "    (drop): Dropout(p=0.1, inplace=False)\n",
       "    (h): ModuleList(\n",
       "      (0-11): 12 x GPT2Block(\n",
       "        (ln_1): LayerNorm((768,), eps=1e-05, elementwise_affine=True)\n",
       "        (attn): GPT2Attention(\n",
       "          (c_attn): Conv1D(nf=2304, nx=768)\n",
       "          (c_proj): Conv1D(nf=768, nx=768)\n",
       "          (attn_dropout): Dropout(p=0.1, inplace=False)\n",
       "          (resid_dropout): Dropout(p=0.1, inplace=False)\n",
       "        )\n",
       "        (ln_2): LayerNorm((768,), eps=1e-05, elementwise_affine=True)\n",
       "        (mlp): GPT2MLP(\n",
       "          (c_fc): Conv1D(nf=3072, nx=768)\n",
       "          (c_proj): Conv1D(nf=768, nx=3072)\n",
       "          (act): NewGELUActivation()\n",
       "          (dropout): Dropout(p=0.1, inplace=False)\n",
       "        )\n",
       "      )\n",
       "    )\n",
       "    (ln_f): LayerNorm((768,), eps=1e-05, elementwise_affine=True)\n",
       "  )\n",
       "  (lm_head): Linear(in_features=768, out_features=32768, bias=False)\n",
       ")"
      ]
     },
     "execution_count": 3,
     "metadata": {},
     "output_type": "execute_result"
    }
   ],
   "source": [
    "device = \"cuda\" if torch.cuda.is_available() else \"cpu\"\n",
    "\n",
    "# Specify the model name or path\n",
    "model_name = \"codeparrot/codeparrot-small\"\n",
    "\n",
    "# Load the model and tokenizer\n",
    "tokenizer = AutoTokenizer.from_pretrained(model_name)\n",
    "model = AutoModelForCausalLM.from_pretrained(model_name)\n",
    "model = model.to(device)\n",
    "model.eval()"
   ]
  },
  {
   "cell_type": "code",
   "execution_count": 4,
   "metadata": {},
   "outputs": [],
   "source": [
    "# Set pad_token_id and pad_token_id if not already set\n",
    "if tokenizer.pad_token_id is None:\n",
    "    tokenizer.pad_token_id = 0  # Commonly used pad token ID\n",
    "if tokenizer.eos_token_id is None:\n",
    "    tokenizer.eos_token_id = 2  # Commonly used eos token ID for Llama\n",
    "\n",
    "# Ensure the tokenizer has the pad and eos tokens\n",
    "if tokenizer.pad_token is None:\n",
    "    tokenizer.add_special_tokens({'pad_token': '<pad>'})\n",
    "if tokenizer.eos_token is None:\n",
    "    tokenizer.add_special_tokens({'eos_token': '</s>'})\n",
    "\n",
    "# Resize model embeddings if new tokens were added\n",
    "if len(tokenizer) > model.config.vocab_size:\n",
    "    model.resize_token_embeddings(len(tokenizer))"
   ]
  },
  {
   "cell_type": "code",
   "execution_count": 5,
   "metadata": {},
   "outputs": [
    {
     "name": "stdout",
     "output_type": "stream",
     "text": [
      "Generating code solutions...\n"
     ]
    },
    {
     "name": "stderr",
     "output_type": "stream",
     "text": [
      "Problems: 100%|██████████| 164/164 [14:03<00:00,  5.15s/problem]"
     ]
    },
    {
     "name": "stdout",
     "output_type": "stream",
     "text": [
      "Code generation complete.\n"
     ]
    },
    {
     "name": "stderr",
     "output_type": "stream",
     "text": [
      "\n"
     ]
    }
   ],
   "source": [
    "# Set the number of candidates per problem\n",
    "num_samples_per_problem = 5  # Adjust as needed for pass@k computation\n",
    "\n",
    "# Lists to store test cases and predictions\n",
    "test_cases = []\n",
    "candidates = []\n",
    "\n",
    "# Create a progress bar for the outer loop (problems)\n",
    "print(\"Generating code solutions...\")\n",
    "for problem in tqdm(human_eval, desc=\"Problems\", unit=\"problem\"):\n",
    "    prompt = problem['prompt']\n",
    "    test_code = problem['test']\n",
    "    # Store the test cases\n",
    "    test_cases.append(test_code)\n",
    "\n",
    "    # Generate multiple candidate solutions for each problem\n",
    "    problem_candidates = []\n",
    "\n",
    "    # Create a progress bar for the inner loop (samples per problem)\n",
    "    for _ in range(num_samples_per_problem):\n",
    "        # Encode the prompt and get attention mask\n",
    "        inputs = tokenizer(prompt, return_tensors=\"pt\").to(device)\n",
    "\n",
    "        # Generate code with attention mask and proper token IDs\n",
    "        with torch.no_grad():\n",
    "            outputs = model.generate(\n",
    "                input_ids=inputs['input_ids'],\n",
    "                attention_mask=inputs['attention_mask'],\n",
    "                max_length=512,\n",
    "                do_sample=True,\n",
    "                temperature=0.7,\n",
    "                top_p=0.95,\n",
    "                num_return_sequences=1,\n",
    "                pad_token_id=tokenizer.pad_token_id,\n",
    "                eos_token_id=tokenizer.eos_token_id,\n",
    "            )\n",
    "        generated_code = tokenizer.decode(outputs[0], skip_special_tokens=True)\n",
    "        # Remove the prompt from the generated code\n",
    "        generated_code = generated_code[len(prompt):]\n",
    "        problem_candidates.append(generated_code)\n",
    "    # Add the candidates for the current problem\n",
    "    candidates.append(problem_candidates)\n",
    "\n",
    "print(\"Code generation complete.\")"
   ]
  },
  {
   "cell_type": "code",
   "execution_count": 6,
   "metadata": {},
   "outputs": [
    {
     "name": "stdout",
     "output_type": "stream",
     "text": [
      "Evaluating generated code...\n",
      "Pass@1: 27.93%\n",
      "Pass@5: 75.00%\n"
     ]
    }
   ],
   "source": [
    "# Compute pass@k\n",
    "k_values = [1, 5]\n",
    "print(\"Evaluating generated code...\")\n",
    "pass_at_k, results = code_eval_metric.compute(\n",
    "    references=test_cases,\n",
    "    predictions=candidates,\n",
    "    k=k_values,\n",
    "    num_workers=4,  # Adjust based on your system\n",
    "    timeout=10.0,   # Adjust the timeout as needed\n",
    ")\n",
    "\n",
    "# Print the results\n",
    "for k in k_values:\n",
    "    print(f\"Pass@{k}: {pass_at_k[f'pass@{k}'] * 100:.2f}%\")"
   ]
  }
 ],
 "metadata": {
  "kernelspec": {
   "display_name": ".venv",
   "language": "python",
   "name": "python3"
  },
  "language_info": {
   "codemirror_mode": {
    "name": "ipython",
    "version": 3
   },
   "file_extension": ".py",
   "mimetype": "text/x-python",
   "name": "python",
   "nbconvert_exporter": "python",
   "pygments_lexer": "ipython3",
   "version": "3.10.12"
  }
 },
 "nbformat": 4,
 "nbformat_minor": 2
}
